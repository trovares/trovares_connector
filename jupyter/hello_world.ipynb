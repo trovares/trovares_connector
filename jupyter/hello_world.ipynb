{
 "cells": [
  {
   "cell_type": "markdown",
   "id": "c790ca60",
   "metadata": {},
   "source": [
    "# Hello World\n",
    "This notebook walks through basic code examples of integrating xGT with Neo4j, pandas, networkx, and jgraph\n",
    "\n",
    "## xgt_neo4j_connector\n",
    "xgt_neo4j_connector can be installed with: `python -m pip install -e git+https://github.com/trovares/xgt_neo4j_connector.git#egg=xgt_neo4j_connector`\n",
    "\n",
    "## Connect\n",
    "Connect to xGT and the Neo4j database"
   ]
  },
  {
   "cell_type": "code",
   "execution_count": 1,
   "id": "4f557fe0",
   "metadata": {},
   "outputs": [],
   "source": [
    "from xgt_neo4j_connector import Neo4jConnector\n",
    "import xgt\n",
    "\n",
    "xgt_server = xgt.Connection()\n",
    "xgt_server.set_default_namespace('neo4j')\n",
    "database = \"test\"\n",
    "\n",
    "c=Neo4jConnector(xgt_server, neo4j_auth=('neo4j', 'foo'), neo4j_database=database)"
   ]
  },
  {
   "cell_type": "code",
   "execution_count": 2,
   "id": "bb6d658a",
   "metadata": {},
   "outputs": [],
   "source": [
    "with c.neo4j_driver.session(database=database) as session:\n",
    "    session.run(\"MATCH (n) DETACH DELETE n\")"
   ]
  },
  {
   "cell_type": "markdown",
   "id": "c2c37d83",
   "metadata": {},
   "source": [
    "## Create a graph in Neo4j"
   ]
  },
  {
   "cell_type": "code",
   "execution_count": 3,
   "id": "e251fabc",
   "metadata": {},
   "outputs": [],
   "source": [
    "with c.neo4j_driver.session(database=database) as session:\n",
    "    end = 5\n",
    "    session.run('create (a:Person{id:0})')\n",
    "    for i in range(0, end):\n",
    "        session.run(f'match(a:Person) where a.id = {i} create (a)-[:Knows]->(:Person{{id:{i + 1}}})')\n",
    "    session.run('match(a:Person), (b:Person) where a.id = 2 and b.id = 0 create (a)-[:Knows]->(b)')"
   ]
  },
  {
   "cell_type": "markdown",
   "id": "15e24590",
   "metadata": {},
   "source": [
    "## Transfer data to xGT\n",
    "Transfers data associated with edge, `Knows`, including the associated vertices"
   ]
  },
  {
   "cell_type": "code",
   "execution_count": 4,
   "id": "25af3597",
   "metadata": {},
   "outputs": [
    {
     "name": "stdout",
     "output_type": "stream",
     "text": [
      "Copy data for vertex Person into schema: {'schema': [['neo4j_id', 'int'], ['id', 'int']], 'neo4j_schema': [['neo4j_id', 'INTEGER'], ['id', 'Long']], 'key': 'neo4j_id'}\n",
      "Time to transfer: 0.25\n",
      "Copy data for node Knows into schema: [{'schema': [['neo4j_source', 'int'], ['neo4j_target', 'int']], 'neo4j_schema': [['neo4j_source', 'INTEGER'], ['neo4j_target', 'INTEGER']], 'source': 'Person', 'target': 'Person', 'source_key': 'neo4j_source', 'target_key': 'neo4j_target'}]\n",
      "Time to transfer: 0.01\n"
     ]
    }
   ],
   "source": [
    "c.transfer_from_neo4j_to_xgt_for(edges=[\"Knows\"])"
   ]
  },
  {
   "cell_type": "markdown",
   "id": "6deda89d",
   "metadata": {},
   "source": [
    "## Cypher\n",
    "Retrieve python query results"
   ]
  },
  {
   "cell_type": "code",
   "execution_count": 5,
   "id": "df76db5b",
   "metadata": {},
   "outputs": [
    {
     "name": "stdout",
     "output_type": "stream",
     "text": [
      "xGT found the following nodes in a triangle: 2,1,0\n"
     ]
    }
   ],
   "source": [
    "query = \"match(a)-->()-->()-->(a) return a.id\"\n",
    "\n",
    "job = xgt_server.run_job(query)\n",
    "print(\"xGT found the following nodes in a triangle: \" + ','.join(str(row[0]) for row in job.get_data()))"
   ]
  },
  {
   "cell_type": "markdown",
   "id": "0d9223fb",
   "metadata": {},
   "source": [
    "## Pandas Data Frames\n",
    "Convert results into a pandas dataframe"
   ]
  },
  {
   "cell_type": "code",
   "execution_count": 6,
   "id": "b3552bdf",
   "metadata": {},
   "outputs": [
    {
     "data": {
      "text/html": [
       "<div>\n",
       "<style scoped>\n",
       "    .dataframe tbody tr th:only-of-type {\n",
       "        vertical-align: middle;\n",
       "    }\n",
       "\n",
       "    .dataframe tbody tr th {\n",
       "        vertical-align: top;\n",
       "    }\n",
       "\n",
       "    .dataframe thead th {\n",
       "        text-align: right;\n",
       "    }\n",
       "</style>\n",
       "<table border=\"1\" class=\"dataframe\">\n",
       "  <thead>\n",
       "    <tr style=\"text-align: right;\">\n",
       "      <th></th>\n",
       "      <th>a_id</th>\n",
       "    </tr>\n",
       "  </thead>\n",
       "  <tbody>\n",
       "    <tr>\n",
       "      <th>0</th>\n",
       "      <td>2</td>\n",
       "    </tr>\n",
       "    <tr>\n",
       "      <th>1</th>\n",
       "      <td>1</td>\n",
       "    </tr>\n",
       "    <tr>\n",
       "      <th>2</th>\n",
       "      <td>0</td>\n",
       "    </tr>\n",
       "  </tbody>\n",
       "</table>\n",
       "</div>"
      ],
      "text/plain": [
       "   a_id\n",
       "0     2\n",
       "1     1\n",
       "2     0"
      ]
     },
     "execution_count": 6,
     "metadata": {},
     "output_type": "execute_result"
    }
   ],
   "source": [
    "job.get_data_pandas()"
   ]
  },
  {
   "cell_type": "markdown",
   "id": "04a08007",
   "metadata": {},
   "source": [
    "## NetworkX\n",
    "Visualizing the graph with networkx"
   ]
  },
  {
   "cell_type": "code",
   "execution_count": 7,
   "id": "f2fcbff7",
   "metadata": {},
   "outputs": [
    {
     "data": {
      "image/png": "[encoded data removed]",
      "text/plain": [
       "<Figure size 432x288 with 1 Axes>"
      ]
     },
     "metadata": {},
     "output_type": "display_data"
    }
   ],
   "source": [
    "import networkx as nx\n",
    "\n",
    "data =  xgt_server.run_job(\"match(a)-->(b) return a.id, b.id\").get_data()\n",
    "data = [tuple(x) for x in data]\n",
    "\n",
    "DG = nx.DiGraph()\n",
    "DG.add_edges_from(data)\n",
    "nx.draw(DG)"
   ]
  },
  {
   "cell_type": "markdown",
   "id": "6d00ec12",
   "metadata": {},
   "source": [
    "## jgraph\n",
    "Visualizing the graph with jgraph"
   ]
  },
  {
   "cell_type": "code",
   "execution_count": 8,
   "id": "5a5a4f47",
   "metadata": {},
   "outputs": [
    {
     "data": {
      "text/html": [
       "<div id=\"graph-2abc3fdf-eae9-4124-912b-302e1ba7c936\"></div>\n",
       "           <script type=\"text/javascript\">\n",
       "           require.config({baseUrl: '/',\n",
       "                             paths: {jgraph: ['nbextensions/jgraph.min', 'https://rawgit.com/patrickfuller/jgraph/master/js/build/jgraph.min']}});\n",
       "           require(['jgraph'], function () {\n",
       "               var $d = $('#graph-2abc3fdf-eae9-4124-912b-302e1ba7c936');\n",
       "               $d.width(600); $d.height(400);\n",
       "               $d.jgraph = jQuery.extend({}, jgraph);\n",
       "               $d.jgraph.create($d, {nodeSize: 2.000000,\n",
       "                                     edgeSize: 0.250000,\n",
       "                                     defaultNodeColor: '0x5bc0de',\n",
       "                                     defaultEdgeColor: '0xaaaaaa',\n",
       "                                     shader: 'basic',\n",
       "                                     z: 100,\n",
       "                                     runOptimization: true,\n",
       "                                     directed: true,\n",
       "                                     showSave: false});\n",
       "               $d.jgraph.draw({\n",
       "    \"edges\": [\n",
       "        { \"source\": 4, \"target\": 5 },\n",
       "        { \"source\": 3, \"target\": 4 },\n",
       "        { \"source\": 2, \"target\": 0 },\n",
       "        { \"source\": 2, \"target\": 3 },\n",
       "        { \"source\": 1, \"target\": 2 },\n",
       "        { \"source\": 0, \"target\": 1 }\n",
       "    ],\n",
       "    \"nodes\": {\n",
       "        \"0\": { \"location\": [ -2.0, -2.0, -2.0 ] },\n",
       "        \"1\": { \"location\": [ -1.6541910682685272, -1.4750511227997385, -2.0 ] },\n",
       "        \"2\": { \"location\": [ -0.4097240326761384, -0.4782816732684603, -0.6360557674269144 ] },\n",
       "        \"3\": { \"location\": [ 0.6612985006358284, 0.3574249940933016, 0.865835862053701 ] },\n",
       "        \"4\": { \"location\": [ 1.267375973205145, 1.5300727699829448, 1.658193961441408 ] },\n",
       "        \"5\": { \"location\": [ 2.0, 2.0, 2.0 ] }\n",
       "    }\n",
       "});\n",
       "\n",
       "               $d.resizable({\n",
       "                   aspectRatio: 600 / 400,\n",
       "                   resize: function (evt, ui) {\n",
       "                       $d.jgraph.renderer.setSize(ui.size.width,\n",
       "                                                  ui.size.height);\n",
       "                   }\n",
       "               });\n",
       "           });\n",
       "           </script>"
      ],
      "text/plain": [
       "<IPython.core.display.HTML object>"
      ]
     },
     "metadata": {},
     "output_type": "display_data"
    }
   ],
   "source": [
    "import jgraph\n",
    "\n",
    "data =  xgt_server.run_job(\"match(a)-->(b) return a.id, b.id\").get_data()\n",
    "data = [tuple(x) for x in data]\n",
    "jgraph.draw(data)"
   ]
  },
  {
   "cell_type": "code",
   "execution_count": null,
   "id": "4f445558",
   "metadata": {},
   "outputs": [],
   "source": []
  }
 ],
 "metadata": {
  "kernelspec": {
   "display_name": "Python 3 (ipykernel)",
   "language": "python",
   "name": "python3"
  },
  "language_info": {
   "codemirror_mode": {
    "name": "ipython",
    "version": 3
   },
   "file_extension": ".py",
   "mimetype": "text/x-python",
   "name": "python",
   "nbconvert_exporter": "python",
   "pygments_lexer": "ipython3",
   "version": "3.10.4"
  }
 },
 "nbformat": 4,
 "nbformat_minor": 5
}
