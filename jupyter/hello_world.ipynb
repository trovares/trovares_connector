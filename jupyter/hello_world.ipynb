{
 "cells": [
  {
   "cell_type": "markdown",
   "id": "c790ca60",
   "metadata": {},
   "source": [
    "# Hello World\n",
    "This notebook walks through basic code examples of integrating xGT with Neo4j, pandas, networkx, and jgraph\n",
    "\n",
    "## trovares_connector\n",
    "trovares_connector can be installed with: `python -m pip install trovares_connector`\n",
    "\n",
    "## Connect\n",
    "Connect to xGT and the Neo4j database"
   ]
  },
  {
   "cell_type": "code",
   "execution_count": 1,
   "id": "4f557fe0",
   "metadata": {},
   "outputs": [],
   "source": [
    "from trovares_connector import Neo4jConnector, Neo4jDriver\n",
    "import xgt\n",
    "\n",
    "xgt_server = xgt.Connection()\n",
    "xgt_server.set_default_namespace('neo4j')\n",
    "database = \"test\"\n",
    "neo4j_server = Neo4jDriver(auth=('neo4j', 'foo'), database=database)\n",
    "\n",
    "c=Neo4jConnector(xgt_server, neo4j_server)"
   ]
  },
  {
   "cell_type": "code",
   "execution_count": 2,
   "id": "bb6d658a",
   "metadata": {},
   "outputs": [],
   "source": [
    "neo4j_server.query(\"MATCH (n) DETACH DELETE n\").finalize()"
   ]
  },
  {
   "cell_type": "markdown",
   "id": "c2c37d83",
   "metadata": {},
   "source": [
    "## Create a graph in Neo4j"
   ]
  },
  {
   "cell_type": "code",
   "execution_count": 3,
   "id": "e251fabc",
   "metadata": {},
   "outputs": [],
   "source": [
    "names = [\"Nicole\", \"Nathan\", \"Bishop\", \"Ashley\", \"Joe\"]\n",
    "neo4j_server.query(f'create (a:Person{{id:0, name:\"{names[0]}\"}})').finalize()\n",
    "for i in range(0, len(names) - 1):\n",
    "    neo4j_server.query(f'match(a:Person) where a.id = {i} create (a)-[:Knows]->(:Person{{id:{i + 1},name:\"{names[i + 1]}\"}})').finalize()\n",
    "neo4j_server.query('match(a:Person), (b:Person) where a.id = 2 and b.id = 0 create (a)-[:Knows]->(b)').finalize()"
   ]
  },
  {
   "cell_type": "markdown",
   "id": "46196eb9",
   "metadata": {},
   "source": [
    "## Get Neo4j schema info"
   ]
  },
  {
   "cell_type": "code",
   "execution_count": 4,
   "id": "71751874",
   "metadata": {},
   "outputs": [
    {
     "data": {
      "text/plain": [
       "['Knows']"
      ]
     },
     "execution_count": 4,
     "metadata": {},
     "output_type": "execute_result"
    }
   ],
   "source": [
    "c.neo4j_relationship_types"
   ]
  },
  {
   "cell_type": "code",
   "execution_count": 5,
   "id": "47c7c755",
   "metadata": {},
   "outputs": [
    {
     "data": {
      "text/plain": [
       "['Person']"
      ]
     },
     "execution_count": 5,
     "metadata": {},
     "output_type": "execute_result"
    }
   ],
   "source": [
    "c.neo4j_node_labels"
   ]
  },
  {
   "cell_type": "code",
   "execution_count": 6,
   "id": "675c50a5",
   "metadata": {},
   "outputs": [
    {
     "data": {
      "text/plain": [
       "{'Knows': {'schema': {},\n",
       "  'endpoints': {('Person', 'Person')},\n",
       "  'sources': {'Person'},\n",
       "  'targets': {'Person'}}}"
      ]
     },
     "execution_count": 6,
     "metadata": {},
     "output_type": "execute_result"
    }
   ],
   "source": [
    "c.neo4j_edges"
   ]
  },
  {
   "cell_type": "code",
   "execution_count": 7,
   "id": "0055b7e6",
   "metadata": {},
   "outputs": [
    {
     "data": {
      "text/plain": [
       "{'Person': {'name': 'String', 'id': 'Long'}}"
      ]
     },
     "execution_count": 7,
     "metadata": {},
     "output_type": "execute_result"
    }
   ],
   "source": [
    "c.neo4j_nodes"
   ]
  },
  {
   "cell_type": "markdown",
   "id": "15e24590",
   "metadata": {},
   "source": [
    "## Transfer data to xGT\n",
    "Transfers data associated with edge, `Knows`, including the associated vertices"
   ]
  },
  {
   "cell_type": "code",
   "execution_count": 8,
   "id": "25af3597",
   "metadata": {},
   "outputs": [
    {
     "name": "stdout",
     "output_type": "stream",
     "text": [
      "Transferring: [############################################################] 10/10 in 0:00:00.3s (31.5/s, eta: 0:00:00.0s)\n"
     ]
    }
   ],
   "source": [
    "c.transfer_to_xgt(edges=[\"Knows\"])"
   ]
  },
  {
   "cell_type": "markdown",
   "id": "6deda89d",
   "metadata": {},
   "source": [
    "## Cypher\n",
    "Retrieve python query results"
   ]
  },
  {
   "cell_type": "code",
   "execution_count": 9,
   "id": "df76db5b",
   "metadata": {},
   "outputs": [
    {
     "name": "stdout",
     "output_type": "stream",
     "text": [
      "xGT found the following relationship triangle: Bishop, Nathan, Nicole\n"
     ]
    }
   ],
   "source": [
    "query = \"match(a)-->()-->()-->(a) return a.name\"\n",
    "\n",
    "job = xgt_server.run_job(query)\n",
    "print(\"xGT found the following relationship triangle: \" + ', '.join(str(row[0]) for row in job.get_data()))"
   ]
  },
  {
   "cell_type": "markdown",
   "id": "26e98eae",
   "metadata": {},
   "source": [
    "## Save results to disk"
   ]
  },
  {
   "cell_type": "code",
   "execution_count": 10,
   "id": "c45a13d2",
   "metadata": {},
   "outputs": [
    {
     "data": {
      "text/plain": [
       "True"
      ]
     },
     "execution_count": 10,
     "metadata": {},
     "output_type": "execute_result"
    }
   ],
   "source": [
    "query = \"match(a)-->()-->()-->(a) return a.name into results\"\n",
    "\n",
    "xgt_server.run_job(query)\n",
    "xgt_server.get_table_frame(\"results\").save(\"results.csv\")\n",
    "xgt_server.drop_frame(\"results\")"
   ]
  },
  {
   "cell_type": "markdown",
   "id": "0d9223fb",
   "metadata": {},
   "source": [
    "## Pandas DataFrames\n",
    "Convert results into a pandas dataframe"
   ]
  },
  {
   "cell_type": "code",
   "execution_count": 11,
   "id": "b3552bdf",
   "metadata": {},
   "outputs": [
    {
     "data": {
      "text/html": [
       "<div>\n",
       "<style scoped>\n",
       "    .dataframe tbody tr th:only-of-type {\n",
       "        vertical-align: middle;\n",
       "    }\n",
       "\n",
       "    .dataframe tbody tr th {\n",
       "        vertical-align: top;\n",
       "    }\n",
       "\n",
       "    .dataframe thead th {\n",
       "        text-align: right;\n",
       "    }\n",
       "</style>\n",
       "<table border=\"1\" class=\"dataframe\">\n",
       "  <thead>\n",
       "    <tr style=\"text-align: right;\">\n",
       "      <th></th>\n",
       "      <th>a_name</th>\n",
       "    </tr>\n",
       "  </thead>\n",
       "  <tbody>\n",
       "    <tr>\n",
       "      <th>0</th>\n",
       "      <td>Bishop</td>\n",
       "    </tr>\n",
       "    <tr>\n",
       "      <th>1</th>\n",
       "      <td>Nathan</td>\n",
       "    </tr>\n",
       "    <tr>\n",
       "      <th>2</th>\n",
       "      <td>Nicole</td>\n",
       "    </tr>\n",
       "  </tbody>\n",
       "</table>\n",
       "</div>"
      ],
      "text/plain": [
       "   a_name\n",
       "0  Bishop\n",
       "1  Nathan\n",
       "2  Nicole"
      ]
     },
     "execution_count": 11,
     "metadata": {},
     "output_type": "execute_result"
    }
   ],
   "source": [
    "job.get_data_pandas()"
   ]
  },
  {
   "cell_type": "markdown",
   "id": "04a08007",
   "metadata": {},
   "source": [
    "## NetworkX\n",
    "Getting data into networkx"
   ]
  },
  {
   "cell_type": "code",
   "execution_count": 12,
   "id": "f2fcbff7",
   "metadata": {},
   "outputs": [
    {
     "data": {
      "image/png": "[encoded data removed]",
      "text/plain": [
       "<Figure size 432x288 with 1 Axes>"
      ]
     },
     "metadata": {},
     "output_type": "display_data"
    }
   ],
   "source": [
    "import networkx as nx\n",
    "\n",
    "edge_data = [tuple(x) for x in xgt_server.get_edge_frame(\"Knows\").get_data()]\n",
    "vertex_data = xgt_server.get_vertex_frame(\"Person\").get_data()\n",
    "\n",
    "dg = nx.DiGraph()\n",
    "\n",
    "dg.add_edges_from(edge_data)\n",
    "nx.set_node_attributes(dg, {row[0]:row[1] for row in vertex_data}, name=\"name\")\n",
    "\n",
    "nx.draw_networkx(dg, font_color='white')"
   ]
  },
  {
   "cell_type": "code",
   "execution_count": 13,
   "id": "80de1a89",
   "metadata": {},
   "outputs": [
    {
     "data": {
      "text/plain": [
       "NodeDataView({0: {'name': 'Nicole'}, 1: {'name': 'Nathan'}, 2: {'name': 'Bishop'}, 3: {'name': 'Ashley'}, 4: {'name': 'Joe'}})"
      ]
     },
     "execution_count": 13,
     "metadata": {},
     "output_type": "execute_result"
    }
   ],
   "source": [
    "dg.nodes(data=True)"
   ]
  },
  {
   "cell_type": "code",
   "execution_count": 14,
   "id": "d2c431e7",
   "metadata": {},
   "outputs": [
    {
     "data": {
      "text/plain": [
       "DiDegreeView({0: 2, 1: 2, 2: 3, 3: 2, 4: 1})"
      ]
     },
     "execution_count": 14,
     "metadata": {},
     "output_type": "execute_result"
    }
   ],
   "source": [
    "nx.degree(dg)"
   ]
  },
  {
   "cell_type": "markdown",
   "id": "6d00ec12",
   "metadata": {},
   "source": [
    "## jgraph\n",
    "Visualizing the graph with jgraph"
   ]
  },
  {
   "cell_type": "code",
   "execution_count": 15,
   "id": "5a5a4f47",
   "metadata": {},
   "outputs": [
    {
     "data": {
      "text/html": [
       "<div id=\"graph-d5df76ab-e629-45e3-b4eb-d87403be551a\"></div>\n",
       "           <script type=\"text/javascript\">\n",
       "           require.config({baseUrl: '/',\n",
       "                             paths: {jgraph: ['nbextensions/jgraph.min', 'https://rawgit.com/patrickfuller/jgraph/master/js/build/jgraph.min']}});\n",
       "           require(['jgraph'], function () {\n",
       "               var $d = $('#graph-d5df76ab-e629-45e3-b4eb-d87403be551a');\n",
       "               $d.width(600); $d.height(400);\n",
       "               $d.jgraph = jQuery.extend({}, jgraph);\n",
       "               $d.jgraph.create($d, {nodeSize: 2.000000,\n",
       "                                     edgeSize: 0.250000,\n",
       "                                     defaultNodeColor: '0x5bc0de',\n",
       "                                     defaultEdgeColor: '0xaaaaaa',\n",
       "                                     shader: 'basic',\n",
       "                                     z: 100,\n",
       "                                     runOptimization: true,\n",
       "                                     directed: true,\n",
       "                                     showSave: false});\n",
       "               $d.jgraph.draw({\n",
       "    \"edges\": [\n",
       "        { \"source\": 3, \"target\": 4 },\n",
       "        { \"source\": 2, \"target\": 0 },\n",
       "        { \"source\": 2, \"target\": 3 },\n",
       "        { \"source\": 1, \"target\": 2 },\n",
       "        { \"source\": 0, \"target\": 1 }\n",
       "    ],\n",
       "    \"nodes\": {\n",
       "        \"0\": { \"location\": [ -2.0, -1.9652747667085708, -2.0 ] },\n",
       "        \"1\": { \"location\": [ -1.0200704468500006, -1.0621821699496692, -0.8893591946883876 ] },\n",
       "        \"2\": { \"location\": [ -0.05583788215910058, -0.4999665296622618, 0.11428242660207273 ] },\n",
       "        \"3\": { \"location\": [ 0.8767054818324936, 1.0037009384928965, 0.940018937059155 ] },\n",
       "        \"4\": { \"location\": [ 2.0, 2.0, 2.0 ] }\n",
       "    }\n",
       "});\n",
       "\n",
       "               $d.resizable({\n",
       "                   aspectRatio: 600 / 400,\n",
       "                   resize: function (evt, ui) {\n",
       "                       $d.jgraph.renderer.setSize(ui.size.width,\n",
       "                                                  ui.size.height);\n",
       "                   }\n",
       "               });\n",
       "           });\n",
       "           </script>"
      ],
      "text/plain": [
       "<IPython.core.display.HTML object>"
      ]
     },
     "metadata": {},
     "output_type": "display_data"
    }
   ],
   "source": [
    "import jgraph\n",
    "\n",
    "data =  xgt_server.run_job(\"match(a)-->(b) return a.id, b.id\").get_data()\n",
    "data = [tuple(x) for x in data]\n",
    "jgraph.draw(data)"
   ]
  }
 ],
 "metadata": {
  "kernelspec": {
   "display_name": "Python 3 (ipykernel)",
   "language": "python",
   "name": "python3"
  },
  "language_info": {
   "codemirror_mode": {
    "name": "ipython",
    "version": 3
   },
   "file_extension": ".py",
   "mimetype": "text/x-python",
   "name": "python",
   "nbconvert_exporter": "python",
   "pygments_lexer": "ipython3",
   "version": "3.10.5"
  }
 },
 "nbformat": 4,
 "nbformat_minor": 5
}
