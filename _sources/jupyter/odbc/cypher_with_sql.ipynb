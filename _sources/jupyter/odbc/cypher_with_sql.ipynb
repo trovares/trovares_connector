{
 "cells": [
  {
   "cell_type": "markdown",
   "id": "0a84f0a2",
   "metadata": {},
   "source": [
    "# Non-Graph analytics ODBC\n",
    "This notebook walks through using cypher queries on tables from a MySQL database.\n",
    "It provides an alternative to accelerating analytics instead of building a database index."
   ]
  },
  {
   "cell_type": "code",
   "execution_count": 1,
   "id": "8e10ab2e",
   "metadata": {},
   "outputs": [],
   "source": [
    "from trovares_connector import ODBCConnector, SQLODBCDriver\n",
    "import xgt\n",
    "import time\n",
    "import pyodbc\n",
    "import requests"
   ]
  },
  {
   "cell_type": "markdown",
   "id": "52f1e71d",
   "metadata": {},
   "source": [
    "## Connect to xGT and MySQL"
   ]
  },
  {
   "cell_type": "code",
   "execution_count": 2,
   "id": "066e36c6",
   "metadata": {},
   "outputs": [],
   "source": [
    "connection_string = 'Driver={MariaDB};Server=127.0.0.1;Port=3306;Database=test;Uid=test;Pwd=foo;'\n",
    "xgt_server = xgt.Connection()\n",
    "xgt_server.set_default_namespace('odbc')\n",
    "odbc_driver = SQLODBCDriver(connection_string)   \n",
    "c = ODBCConnector(xgt_server, odbc_driver)       \n",
    "pyodbc_driver = pyodbc.connect(connection_string)\n",
    "cursor = pyodbc_driver.cursor()"
   ]
  },
  {
   "cell_type": "markdown",
   "id": "c80a4a94",
   "metadata": {},
   "source": [
    "## Transfer the dataset locally"
   ]
  },
  {
   "cell_type": "code",
   "execution_count": 3,
   "id": "c21fbd4a",
   "metadata": {},
   "outputs": [],
   "source": [
    "file_object = requests.get('https://datasets.trovares.com/TT/tt.1M')\n",
    "with open('tt.1M', 'wb') as local_file:\n",
    "    local_file.write(file_object.content)"
   ]
  },
  {
   "cell_type": "markdown",
   "id": "64d027ac",
   "metadata": {},
   "source": [
    "## Load the data into MySQL"
   ]
  },
  {
   "cell_type": "code",
   "execution_count": 4,
   "id": "36502592",
   "metadata": {},
   "outputs": [
    {
     "name": "stdout",
     "output_type": "stream",
     "text": [
      "Load time: 2.36\n"
     ]
    }
   ],
   "source": [
    "t0 = time.time()\n",
    "cursor.execute(\"DROP TABLE IF EXISTS Events\")\n",
    "cursor.execute(\"CREATE TABLE Events (src BIGINT, trg BIGINT, timestamp BIGINT)\")\n",
    "cursor.execute(\"LOAD DATA LOCAL INFILE './tt.1M' INTO TABLE Events FIELDS TERMINATED BY ',' LINES TERMINATED BY '\\n';\") \n",
    "pyodbc_driver.commit()\n",
    "t_duration = time.time() - t0\n",
    "print(f\"Load time: {t_duration:,.2f}\")"
   ]
  },
  {
   "cell_type": "markdown",
   "id": "3b4e7f02",
   "metadata": {},
   "source": [
    "## Query to run"
   ]
  },
  {
   "cell_type": "code",
   "execution_count": 5,
   "id": "d7154ed8",
   "metadata": {},
   "outputs": [],
   "source": [
    "cypher_query = \"MATCH (row:Events) WHERE row.timestamp < 1 return count(*)\"\n",
    "sql_query = \"SELECT COUNT(*) FROM Events WHERE timestamp < 1\""
   ]
  },
  {
   "cell_type": "markdown",
   "id": "1b52fb50",
   "metadata": {},
   "source": [
    "## Transfer data to xGT"
   ]
  },
  {
   "cell_type": "code",
   "execution_count": 6,
   "id": "f49f1f12",
   "metadata": {},
   "outputs": [
    {
     "name": "stdout",
     "output_type": "stream",
     "text": [
      "Transferring: [############################################################] 1000000/1000000 in 0:00:00.7s (1393061.2/s, eta: 0:00:00.0s)     \n",
      "Transfer to xgt time: 0.73\n"
     ]
    }
   ],
   "source": [
    "t0 = time.time()\n",
    "c.transfer_to_xgt(['Events'])\n",
    "t_duration = time.time() - t0\n",
    "print(f\"Transfer to xgt time: {t_duration:,.2f}\")"
   ]
  },
  {
   "cell_type": "markdown",
   "id": "e2b24e88",
   "metadata": {},
   "source": [
    "## Run query on xGT"
   ]
  },
  {
   "cell_type": "code",
   "execution_count": 7,
   "id": "8db838d2",
   "metadata": {},
   "outputs": [
    {
     "name": "stdout",
     "output_type": "stream",
     "text": [
      "[[94]]\n",
      "Query to xgt time: 0.01\n",
      "Total xgt time including transfer: 0.74\n"
     ]
    }
   ],
   "source": [
    "t0 = time.time()\n",
    "job = xgt_server.run_job(cypher_query)\n",
    "q_duration = time.time() - t0\n",
    "print(job.get_data())\n",
    "print(f\"Query to xgt time: {q_duration:,.2f}\")\n",
    "print(f\"Total xgt time including transfer: {t_duration + q_duration:,.2f}\")"
   ]
  },
  {
   "cell_type": "markdown",
   "id": "36e45825",
   "metadata": {},
   "source": [
    "## Run query in MySQL"
   ]
  },
  {
   "cell_type": "code",
   "execution_count": 8,
   "id": "1347b5de",
   "metadata": {},
   "outputs": [
    {
     "name": "stdout",
     "output_type": "stream",
     "text": [
      "94\n",
      "MySQL query time: 0.28\n"
     ]
    }
   ],
   "source": [
    "t0 = time.time()\n",
    "cursor.execute(sql_query)\n",
    "rows = cursor.fetchall()\n",
    "for row in rows:\n",
    "    print(row[0])\n",
    "n_duration = time.time() - t0\n",
    "print(f\"MySQL query time: {n_duration:,.2f}\")"
   ]
  },
  {
   "cell_type": "code",
   "execution_count": 9,
   "id": "98e04aff",
   "metadata": {},
   "outputs": [
    {
     "name": "stdout",
     "output_type": "stream",
     "text": [
      "Query speedup: 24.79X\n"
     ]
    }
   ],
   "source": [
    "print(f\"Query speedup: {n_duration/q_duration:,.2f}X\")"
   ]
  }
 ],
 "metadata": {
  "kernelspec": {
   "display_name": "Python 3 (ipykernel)",
   "language": "python",
   "name": "python3"
  },
  "language_info": {
   "codemirror_mode": {
    "name": "ipython",
    "version": 3
   },
   "file_extension": ".py",
   "mimetype": "text/x-python",
   "name": "python",
   "nbconvert_exporter": "python",
   "pygments_lexer": "ipython3",
   "version": "3.10.5"
  }
 },
 "nbformat": 4,
 "nbformat_minor": 5
}
